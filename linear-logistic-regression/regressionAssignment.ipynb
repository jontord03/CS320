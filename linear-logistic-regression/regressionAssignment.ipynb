{
 "cells": [
  {
   "cell_type": "code",
   "execution_count": 157,
   "metadata": {},
   "outputs": [],
   "source": [
    "# most of this code is from:\n",
    "# https://nbviewer.jupyter.org/github/jennselby/MachineLearningCourseNotes/blob/master/assets/ipynb/LinearRegression.ipynb\n",
    "\n",
    "#I changed some lines of code that are listed later in the \"Exercise One\" section\n",
    "#I attempt to graph by own best-fit line at the bottom of this file after the 3d plot\n",
    "\n",
    "%matplotlib inline"
   ]
  },
  {
   "cell_type": "code",
   "execution_count": 158,
   "metadata": {},
   "outputs": [],
   "source": [
    "import numpy.random\n",
    "from sklearn import linear_model\n",
    "import matplotlib.pyplot\n",
    "from mpl_toolkits.mplot3d import Axes3D\n",
    "import pandas as pd"
   ]
  },
  {
   "cell_type": "code",
   "execution_count": 159,
   "metadata": {},
   "outputs": [],
   "source": [
    "# setting x variable limits - I changed the limits\n",
    "\n",
    "MIN_X = -30\n",
    "MAX_X = 30\n",
    "NUM_INPUTS = 30"
   ]
  },
  {
   "cell_type": "code",
   "execution_count": 160,
   "metadata": {},
   "outputs": [
    {
     "name": "stdout",
     "output_type": "stream",
     "text": [
      "[[ -3.16222226]\n",
      " [ 22.17676908]\n",
      " [  3.64054007]\n",
      " [-22.31646176]\n",
      " [  6.88270655]\n",
      " [ 19.82334117]\n",
      " [ 24.95302641]\n",
      " [-22.75476862]\n",
      " [-13.76391608]\n",
      " [ 17.95369412]\n",
      " [ 28.5737881 ]\n",
      " [  5.59978798]\n",
      " [-20.63639261]\n",
      " [-22.69268596]\n",
      " [ -5.74205738]\n",
      " [-28.20179277]\n",
      " [ 20.76250387]\n",
      " [ 14.55551716]\n",
      " [ 13.05485287]\n",
      " [ 24.88593065]\n",
      " [  5.47621081]\n",
      " [-11.50260108]\n",
      " [ 25.02913478]\n",
      " [-23.33934742]\n",
      " [  9.95412672]\n",
      " [-24.32045532]\n",
      " [ -6.5530987 ]\n",
      " [  8.80001122]\n",
      " [-10.24071672]\n",
      " [ 19.1360245 ]]\n"
     ]
    }
   ],
   "source": [
    "# randomly picks numbers for x\n",
    "\n",
    "x1 = numpy.random.uniform(low=MIN_X, high=MAX_X, size=(NUM_INPUTS, 1))\n",
    "\n",
    "print(x1)"
   ]
  },
  {
   "cell_type": "code",
   "execution_count": 161,
   "metadata": {},
   "outputs": [
    {
     "data": {
      "text/html": [
       "<div>\n",
       "<style scoped>\n",
       "    .dataframe tbody tr th:only-of-type {\n",
       "        vertical-align: middle;\n",
       "    }\n",
       "\n",
       "    .dataframe tbody tr th {\n",
       "        vertical-align: top;\n",
       "    }\n",
       "\n",
       "    .dataframe thead th {\n",
       "        text-align: right;\n",
       "    }\n",
       "</style>\n",
       "<table border=\"1\" class=\"dataframe\">\n",
       "  <thead>\n",
       "    <tr style=\"text-align: right;\">\n",
       "      <th></th>\n",
       "      <th>x</th>\n",
       "    </tr>\n",
       "  </thead>\n",
       "  <tbody>\n",
       "    <tr>\n",
       "      <td>0</td>\n",
       "      <td>-3.162222</td>\n",
       "    </tr>\n",
       "    <tr>\n",
       "      <td>1</td>\n",
       "      <td>22.176769</td>\n",
       "    </tr>\n",
       "    <tr>\n",
       "      <td>2</td>\n",
       "      <td>3.640540</td>\n",
       "    </tr>\n",
       "    <tr>\n",
       "      <td>3</td>\n",
       "      <td>-22.316462</td>\n",
       "    </tr>\n",
       "    <tr>\n",
       "      <td>4</td>\n",
       "      <td>6.882707</td>\n",
       "    </tr>\n",
       "  </tbody>\n",
       "</table>\n",
       "</div>"
      ],
      "text/plain": [
       "           x\n",
       "0  -3.162222\n",
       "1  22.176769\n",
       "2   3.640540\n",
       "3 -22.316462\n",
       "4   6.882707"
      ]
     },
     "execution_count": 161,
     "metadata": {},
     "output_type": "execute_result"
    }
   ],
   "source": [
    "# displays the \"fake x\" data in a spreadsheet-like format\n",
    "\n",
    "data = pd.DataFrame(data = x1, columns = ['x'])\n",
    "data.head()"
   ]
  },
  {
   "cell_type": "code",
   "execution_count": 162,
   "metadata": {},
   "outputs": [],
   "source": [
    "# follows the equation \"y = 0.3x + 1\"\n",
    "\n",
    "data['y'] = 0.3 * data['x'] + 3\n",
    "\n",
    "#data['y'] = data['x'] ** 2"
   ]
  },
  {
   "cell_type": "code",
   "execution_count": 163,
   "metadata": {},
   "outputs": [
    {
     "data": {
      "text/plain": [
       "<matplotlib.axes._subplots.AxesSubplot at 0x12af02f10>"
      ]
     },
     "execution_count": 163,
     "metadata": {},
     "output_type": "execute_result"
    },
    {
     "data": {
      "image/png": "[encoded data removed]",
      "text/plain": [
       "<Figure size 432x288 with 1 Axes>"
      ]
     },
     "metadata": {
      "needs_background": "light"
     },
     "output_type": "display_data"
    }
   ],
   "source": [
    "# plots the data in a 2D plane\n",
    "\n",
    "data.plot.scatter(x='x', y='y')"
   ]
  },
  {
   "cell_type": "code",
   "execution_count": 164,
   "metadata": {},
   "outputs": [],
   "source": [
    "# creating noise\n",
    "\n",
    "noise = numpy.random.normal(size=NUM_INPUTS)"
   ]
  },
  {
   "cell_type": "code",
   "execution_count": 165,
   "metadata": {},
   "outputs": [],
   "source": [
    "# creating the y variable with noise\n",
    "\n",
    "data['y'] = data['y'] + noise"
   ]
  },
  {
   "cell_type": "code",
   "execution_count": 166,
   "metadata": {},
   "outputs": [
    {
     "data": {
      "text/plain": [
       "<matplotlib.axes._subplots.AxesSubplot at 0x126623bd0>"
      ]
     },
     "execution_count": 166,
     "metadata": {},
     "output_type": "execute_result"
    },
    {
     "data": {
      "image/png": "[encoded data removed]",
      "text/plain": [
       "<Figure size 432x288 with 1 Axes>"
      ]
     },
     "metadata": {
      "needs_background": "light"
     },
     "output_type": "display_data"
    }
   ],
   "source": [
    "# plotting the realistic data\n",
    "\n",
    "data.plot.scatter(x='x', y='y')"
   ]
  },
  {
   "cell_type": "code",
   "execution_count": 167,
   "metadata": {},
   "outputs": [],
   "source": [
    "# training the model to find the best fit line\n",
    "\n",
    "# creating the empty linear model\n",
    "\n",
    "model1 = linear_model.LinearRegression()"
   ]
  },
  {
   "cell_type": "code",
   "execution_count": 168,
   "metadata": {},
   "outputs": [],
   "source": [
    "x = data['x'].values.reshape(-1, 1)\n",
    "y = data['y'].values.reshape(-1, 1)"
   ]
  },
  {
   "cell_type": "code",
   "execution_count": 169,
   "metadata": {},
   "outputs": [
    {
     "data": {
      "text/plain": [
       "LinearRegression(copy_X=True, fit_intercept=True, n_jobs=None, normalize=False)"
      ]
     },
     "execution_count": 169,
     "metadata": {},
     "output_type": "execute_result"
    }
   ],
   "source": [
    "# fitting the data to be used for the line\n",
    "\n",
    "model1.fit(X=x, y=y)"
   ]
  },
  {
   "cell_type": "code",
   "execution_count": 170,
   "metadata": {},
   "outputs": [],
   "source": [
    "# displays the results of the training\n",
    "\n",
    "def print_model_fit(model):\n",
    "    # Print out the parameters for the best fit line\n",
    "    print('Intercept: {i}  Coefficients: {c}'.format(i=model.intercept_, c=model.coef_))"
   ]
  },
  {
   "cell_type": "code",
   "execution_count": 171,
   "metadata": {},
   "outputs": [
    {
     "name": "stdout",
     "output_type": "stream",
     "text": [
      "Intercept: [3.24870832]  Coefficients: [[0.29316829]]\n"
     ]
    }
   ],
   "source": [
    "# executing the function\n",
    "\n",
    "print_model_fit(model1)"
   ]
  },
  {
   "cell_type": "code",
   "execution_count": 172,
   "metadata": {},
   "outputs": [
    {
     "name": "stdout",
     "output_type": "stream",
     "text": [
      "[[2.88811132]\n",
      " [3.35424891]\n",
      " [3.67380235]]\n"
     ]
    }
   ],
   "source": [
    "# print out guesses for x values\n",
    "\n",
    "new_x_values = [ [-1.23], [0.36], [1.45]]\n",
    "\n",
    "predictions = model1.predict(new_x_values)\n",
    "\n",
    "print(predictions)"
   ]
  },
  {
   "cell_type": "code",
   "execution_count": 173,
   "metadata": {},
   "outputs": [
    {
     "name": "stdout",
     "output_type": "stream",
     "text": [
      "Model prediction for -1.23: [2.88811132]\n",
      "Model prediction for 0.36: [3.35424891]\n",
      "Model prediction for 1.45: [3.67380235]\n"
     ]
    }
   ],
   "source": [
    "# using string formatting, print out the data \n",
    "\n",
    "for datapoint, prediction in zip(new_x_values, predictions):\n",
    "    print('Model prediction for {}: {}'.format(datapoint[0], prediction))"
   ]
  },
  {
   "cell_type": "code",
   "execution_count": 174,
   "metadata": {},
   "outputs": [],
   "source": [
    "# plotting the line of best fit\n",
    "\n",
    "def plot_best_fit_line(model, x, y):\n",
    "    # formatting the graph\n",
    "    fig = matplotlib.pyplot.figure(1)\n",
    "    fig.suptitle('Data and Best-Fit Line')\n",
    "    matplotlib.pyplot.xlabel('x values')\n",
    "    matplotlib.pyplot.ylabel('y values')\n",
    "    \n",
    "    # place points on the graph\n",
    "    matplotlib.pyplot.scatter(x, y)\n",
    "    \n",
    "    #plot the line of best fit\n",
    "    \n",
    "    X = numpy.linspace(MIN_X, MAX_X) # generates all the possible values of x\n",
    "    Y = model.predict(list(zip(X)))\n",
    "    matplotlib.pyplot.plot(X, Y)"
   ]
  },
  {
   "cell_type": "code",
   "execution_count": 175,
   "metadata": {},
   "outputs": [
    {
     "data": {
      "image/png": "[encoded data removed]",
      "text/plain": [
       "<Figure size 432x288 with 1 Axes>"
      ]
     },
     "metadata": {
      "needs_background": "light"
     },
     "output_type": "display_data"
    }
   ],
   "source": [
    "plot_best_fit_line(model1, x, y)"
   ]
  },
  {
   "cell_type": "code",
   "execution_count": 176,
   "metadata": {},
   "outputs": [],
   "source": [
    "#Exercise 1 questions\n",
    "\n",
    "# print_model_fit formats the intercept and coefficient (slope) data in a readable and comprehensible format for human eyes\n",
    "# based on the original given equation of the graph, I expected the new data to be the result of the x values multiplied by the coefficient and added to the intercept. This seems to be the case\n",
    "# I expect a line of best fit to be drawn cleanly through the clustered data points, approximating the overall shape of the graph\n",
    "\n",
    "# Lines chosen: 7, 15, 46\n",
    "\n",
    "# Hypotheses: \n",
    "\n",
    "# Line 7: This line will change the window size of the graph, adding variety to the position of various points\n",
    "# Line 15: This line will change the overall shape of the linear function\n",
    "# Line 46: These inputs will affect the overall predictions of the line of best fit- based on the results, it seems to affect the output prediction based on an input value\n",
    "\n",
    "# Testing:\n",
    "\n",
    "# Line 7: Changed the window size to [-1000, 1000] and the number of inputs to 3000. The result was as expected\n",
    "\n",
    "# Line 15: The linear function is altered based on the slope input or the y intercept. The shape of the line itself is not exactly altered, but the window size adjust to fit the given parameters\n",
    "\n",
    "# Line 46: It seems that this data doesn’t exactly alter the shape of the line itself, but rather serves as a way to represent how the computer guesses the outputs for certain x values"
   ]
  },
  {
   "cell_type": "code",
   "execution_count": 177,
   "metadata": {},
   "outputs": [],
   "source": [
    "#Part two of exercise one - 3d plotting"
   ]
  },
  {
   "cell_type": "code",
   "execution_count": 178,
   "metadata": {},
   "outputs": [],
   "source": [
    "# generating noise\n",
    "\n",
    "noise = numpy.random.normal(size=NUM_INPUTS)\n",
    "\n",
    "# randomly pick numbers for x \n",
    "\n",
    "x1 = numpy.random.uniform(low=MIN_X, high=MAX_X, size=NUM_INPUTS)\n",
    "x2 = numpy.random.uniform(low=MIN_X, high=MAX_X, size=NUM_INPUTS)\n",
    "\n",
    "y = 0.5 * x1 - 0.2 * x2 - 2 + noise"
   ]
  },
  {
   "cell_type": "code",
   "execution_count": 179,
   "metadata": {},
   "outputs": [],
   "source": [
    "# maps data using pandas\n",
    "\n",
    "data2 = pd.DataFrame(data=x1, columns = ['x1'])"
   ]
  },
  {
   "cell_type": "code",
   "execution_count": 180,
   "metadata": {},
   "outputs": [],
   "source": [
    "data2['x2'] = x2\n",
    "data2['y'] = y"
   ]
  },
  {
   "cell_type": "code",
   "execution_count": 181,
   "metadata": {},
   "outputs": [
    {
     "data": {
      "text/html": [
       "<div>\n",
       "<style scoped>\n",
       "    .dataframe tbody tr th:only-of-type {\n",
       "        vertical-align: middle;\n",
       "    }\n",
       "\n",
       "    .dataframe tbody tr th {\n",
       "        vertical-align: top;\n",
       "    }\n",
       "\n",
       "    .dataframe thead th {\n",
       "        text-align: right;\n",
       "    }\n",
       "</style>\n",
       "<table border=\"1\" class=\"dataframe\">\n",
       "  <thead>\n",
       "    <tr style=\"text-align: right;\">\n",
       "      <th></th>\n",
       "      <th>x1</th>\n",
       "      <th>x2</th>\n",
       "      <th>y</th>\n",
       "    </tr>\n",
       "  </thead>\n",
       "  <tbody>\n",
       "    <tr>\n",
       "      <td>0</td>\n",
       "      <td>5.474167</td>\n",
       "      <td>-14.010772</td>\n",
       "      <td>1.634032</td>\n",
       "    </tr>\n",
       "    <tr>\n",
       "      <td>1</td>\n",
       "      <td>-5.393711</td>\n",
       "      <td>17.093234</td>\n",
       "      <td>-8.133311</td>\n",
       "    </tr>\n",
       "    <tr>\n",
       "      <td>2</td>\n",
       "      <td>9.345977</td>\n",
       "      <td>-4.985674</td>\n",
       "      <td>5.695484</td>\n",
       "    </tr>\n",
       "    <tr>\n",
       "      <td>3</td>\n",
       "      <td>-27.316992</td>\n",
       "      <td>-28.135342</td>\n",
       "      <td>-9.419042</td>\n",
       "    </tr>\n",
       "    <tr>\n",
       "      <td>4</td>\n",
       "      <td>26.999591</td>\n",
       "      <td>-28.813903</td>\n",
       "      <td>18.425241</td>\n",
       "    </tr>\n",
       "  </tbody>\n",
       "</table>\n",
       "</div>"
      ],
      "text/plain": [
       "          x1         x2          y\n",
       "0   5.474167 -14.010772   1.634032\n",
       "1  -5.393711  17.093234  -8.133311\n",
       "2   9.345977  -4.985674   5.695484\n",
       "3 -27.316992 -28.135342  -9.419042\n",
       "4  26.999591 -28.813903  18.425241"
      ]
     },
     "execution_count": 181,
     "metadata": {},
     "output_type": "execute_result"
    }
   ],
   "source": [
    "data2.head()"
   ]
  },
  {
   "cell_type": "code",
   "execution_count": 182,
   "metadata": {},
   "outputs": [
    {
     "name": "stdout",
     "output_type": "stream",
     "text": [
      "Intercept: -1.8585763947055964  Coefficients: [ 0.50260128 -0.2124193 ]\n"
     ]
    }
   ],
   "source": [
    "# using scikit-learn's linear regression model\n",
    "\n",
    "model2 = linear_model.LinearRegression()\n",
    "model2.fit(data2[['x1', 'x2']], data2['y'])\n",
    "\n",
    "#Print out parameters\n",
    "\n",
    "print_model_fit(model2)"
   ]
  },
  {
   "cell_type": "code",
   "execution_count": 183,
   "metadata": {},
   "outputs": [],
   "source": [
    "# this function will plot the data in 3d\n",
    "\n",
    "def plot_3d(model, x1, x2, y): \n",
    "    # create the figure\n",
    "    fig = matplotlib.pyplot.figure(1)\n",
    "    fig.suptitle('3D Data and Best-Fit Plane')\n",
    "    \n",
    "    # get axes and create a projection\n",
    "    axes = fig.gca(projection='3d')\n",
    "    axes.set_xlabel('x1')\n",
    "    axes.set_ylabel('x2')\n",
    "    axes.set_zlabel('y')\n",
    "    \n",
    "    # scatter the points\n",
    "    \n",
    "    axes.scatter(x1, x2, y)\n",
    "    \n",
    "    # predict for input points to find the best-fit line\n",
    "    \n",
    "    X1 = X2 = numpy.arange(MIN_X, MAX_X, 0.05)\n",
    "    X1, X2 = numpy.meshgrid(X1, X2)\n",
    "    Y = numpy.array(model.predict(list(zip(X1.flatten(), X2.flatten())))).reshape(X1.shape)\n",
    "    \n",
    "    # place the plane on the graph\n",
    "    \n",
    "    axes.plot_surface(X1, X2, Y, alpha=0.1)\n",
    "    \n",
    "    matplotlib.pyplot.show()\n",
    "    "
   ]
  },
  {
   "cell_type": "code",
   "execution_count": 184,
   "metadata": {},
   "outputs": [
    {
     "data": {
      "image/png": "[encoded data removed]",
      "text/plain": [
       "<Figure size 432x288 with 1 Axes>"
      ]
     },
     "metadata": {
      "needs_background": "light"
     },
     "output_type": "display_data"
    }
   ],
   "source": [
    "plot_3d(model2, x1, x2, y)"
   ]
  },
  {
   "cell_type": "code",
   "execution_count": 185,
   "metadata": {},
   "outputs": [],
   "source": [
    "# graphing SAT data with a best-fit line\n",
    "\n",
    "# SAT scores are often used to \"predict\" college GPA, and this exercise tests the linear relationship between the score and the corresponding GPA. \n",
    "# Whether or not a linear relationship exists is not as important as graphing a theoretical best-fit line\n",
    "\n",
    "# Two graphs will be created: one for the SAT math score and another for the SAT reading score. \n"
   ]
  },
  {
   "cell_type": "code",
   "execution_count": 13,
   "metadata": {},
   "outputs": [],
   "source": [
    "min_x = 558\n",
    "max_x = 718\n",
    "num_inputs = 15"
   ]
  },
  {
   "cell_type": "code",
   "execution_count": 14,
   "metadata": {},
   "outputs": [],
   "source": [
    "x3 = [[643],\n",
    "      [558],\n",
    "      [583],\n",
    "      [685],\n",
    "      [592],\n",
    "      [562],\n",
    "      [573],\n",
    "      [559],\n",
    "      [552],\n",
    "      [617],\n",
    "      [684],\n",
    "      [568],\n",
    "      [604],\n",
    "      [619],\n",
    "      [642],\n",
    "      [683],\n",
    "      [703],\n",
    "      [712],\n",
    "      [564],\n",
    "      [557],\n",
    "      [591],\n",
    "      [599],\n",
    "      [607],\n",
    "      [619],\n",
    "      [700],\n",
    "      [718]]"
   ]
  },
  {
   "cell_type": "code",
   "execution_count": 15,
   "metadata": {},
   "outputs": [
    {
     "name": "stdout",
     "output_type": "stream",
     "text": [
      "[[643], [558], [583], [685], [592], [562], [573], [559], [552], [617], [684], [568], [604], [619], [642], [683], [703], [712], [564], [557], [591], [599], [607], [619], [700], [718]]\n"
     ]
    }
   ],
   "source": [
    "print(x3)"
   ]
  },
  {
   "cell_type": "code",
   "execution_count": 47,
   "metadata": {},
   "outputs": [
    {
     "data": {
      "text/html": [
       "<div>\n",
       "<style scoped>\n",
       "    .dataframe tbody tr th:only-of-type {\n",
       "        vertical-align: middle;\n",
       "    }\n",
       "\n",
       "    .dataframe tbody tr th {\n",
       "        vertical-align: top;\n",
       "    }\n",
       "\n",
       "    .dataframe thead th {\n",
       "        text-align: right;\n",
       "    }\n",
       "</style>\n",
       "<table border=\"1\" class=\"dataframe\">\n",
       "  <thead>\n",
       "    <tr style=\"text-align: right;\">\n",
       "      <th></th>\n",
       "      <th>x</th>\n",
       "    </tr>\n",
       "  </thead>\n",
       "  <tbody>\n",
       "    <tr>\n",
       "      <td>0</td>\n",
       "      <td>643</td>\n",
       "    </tr>\n",
       "    <tr>\n",
       "      <td>1</td>\n",
       "      <td>558</td>\n",
       "    </tr>\n",
       "    <tr>\n",
       "      <td>2</td>\n",
       "      <td>583</td>\n",
       "    </tr>\n",
       "    <tr>\n",
       "      <td>3</td>\n",
       "      <td>685</td>\n",
       "    </tr>\n",
       "    <tr>\n",
       "      <td>4</td>\n",
       "      <td>592</td>\n",
       "    </tr>\n",
       "  </tbody>\n",
       "</table>\n",
       "</div>"
      ],
      "text/plain": [
       "     x\n",
       "0  643\n",
       "1  558\n",
       "2  583\n",
       "3  685\n",
       "4  592"
      ]
     },
     "execution_count": 47,
     "metadata": {},
     "output_type": "execute_result"
    }
   ],
   "source": [
    "import pandas as pd\n",
    "\n",
    "data3 = pd.DataFrame(data = x3, columns = ['x'])\n",
    "data3.head()"
   ]
  },
  {
   "cell_type": "code",
   "execution_count": 48,
   "metadata": {},
   "outputs": [],
   "source": [
    "y3 = [[3.76],\n",
    "[2.87],\n",
    "[2.54],\n",
    "[3.83],\n",
    "[3.29],\n",
    "[2.64],\n",
    "[2.86],\n",
    "[2.03],\n",
    "[2.81],\n",
    "[3.41],\n",
    "[3.61],\n",
    "[2.48],\n",
    "[3.21],\n",
    "[3.52],\n",
    "[3.41],\n",
    "[3.52],\n",
    "[3.84],\n",
    "[3.64],\n",
    "[2.14],\n",
    "[2.21],\n",
    "[3.17],\n",
    "[3.01],\n",
    "[3.17],\n",
    "[3.01],\n",
    "[3.72],\n",
    "[3.78]]"
   ]
  },
  {
   "cell_type": "code",
   "execution_count": 49,
   "metadata": {},
   "outputs": [
    {
     "name": "stdout",
     "output_type": "stream",
     "text": [
      "[[3.76], [2.87], [2.54], [3.83], [3.29], [2.64], [2.86], [2.03], [2.81], [3.41], [3.61], [2.48], [3.21], [3.52], [3.41], [3.52], [3.84], [3.64], [2.14], [2.21], [3.17], [3.01], [3.17], [3.01], [3.72], [3.78]]\n"
     ]
    }
   ],
   "source": [
    "print(y3)"
   ]
  },
  {
   "cell_type": "code",
   "execution_count": 50,
   "metadata": {},
   "outputs": [
    {
     "data": {
      "text/html": [
       "<div>\n",
       "<style scoped>\n",
       "    .dataframe tbody tr th:only-of-type {\n",
       "        vertical-align: middle;\n",
       "    }\n",
       "\n",
       "    .dataframe tbody tr th {\n",
       "        vertical-align: top;\n",
       "    }\n",
       "\n",
       "    .dataframe thead th {\n",
       "        text-align: right;\n",
       "    }\n",
       "</style>\n",
       "<table border=\"1\" class=\"dataframe\">\n",
       "  <thead>\n",
       "    <tr style=\"text-align: right;\">\n",
       "      <th></th>\n",
       "      <th>y</th>\n",
       "    </tr>\n",
       "  </thead>\n",
       "  <tbody>\n",
       "    <tr>\n",
       "      <td>0</td>\n",
       "      <td>3.76</td>\n",
       "    </tr>\n",
       "    <tr>\n",
       "      <td>1</td>\n",
       "      <td>2.87</td>\n",
       "    </tr>\n",
       "    <tr>\n",
       "      <td>2</td>\n",
       "      <td>2.54</td>\n",
       "    </tr>\n",
       "    <tr>\n",
       "      <td>3</td>\n",
       "      <td>3.83</td>\n",
       "    </tr>\n",
       "    <tr>\n",
       "      <td>4</td>\n",
       "      <td>3.29</td>\n",
       "    </tr>\n",
       "  </tbody>\n",
       "</table>\n",
       "</div>"
      ],
      "text/plain": [
       "      y\n",
       "0  3.76\n",
       "1  2.87\n",
       "2  2.54\n",
       "3  3.83\n",
       "4  3.29"
      ]
     },
     "execution_count": 50,
     "metadata": {},
     "output_type": "execute_result"
    }
   ],
   "source": [
    "data4 = pd.DataFrame(data = y3, columns = ['y'])\n",
    "data4.head()"
   ]
  },
  {
   "cell_type": "code",
   "execution_count": 60,
   "metadata": {},
   "outputs": [
    {
     "data": {
      "image/png": "[encoded data removed]",
      "text/plain": [
       "<Figure size 432x288 with 1 Axes>"
      ]
     },
     "metadata": {
      "needs_background": "light"
     },
     "output_type": "display_data"
    }
   ],
   "source": [
    "import matplotlib.pyplot as plt\n",
    "plt.plot(x3, y3, 'bo')\n",
    "plt.axis([520, 740, 2, 4])\n",
    "plt.show()"
   ]
  },
  {
   "cell_type": "code",
   "execution_count": 64,
   "metadata": {},
   "outputs": [],
   "source": [
    "import numpy.random\n",
    "from sklearn import linear_model\n",
    "from mpl_toolkits.mplot3d import Axes3D"
   ]
  },
  {
   "cell_type": "code",
   "execution_count": 74,
   "metadata": {},
   "outputs": [
    {
     "data": {
      "text/plain": [
       "LinearRegression(copy_X=True, fit_intercept=True, n_jobs=None, normalize=False)"
      ]
     },
     "execution_count": 74,
     "metadata": {},
     "output_type": "execute_result"
    }
   ],
   "source": [
    "linear_model_GPA = linear_model.LinearRegression()\n",
    "\n",
    "linear_model_GPA.fit(X=x3, y=y3)"
   ]
  },
  {
   "cell_type": "code",
   "execution_count": 75,
   "metadata": {},
   "outputs": [],
   "source": [
    "def plot_GPA_line(model, x, y):\n",
    "    fig = matplotlib.pyplot.figure(1)\n",
    "    fig.suptitle('GPA Predictions')\n",
    "    plt.xlabel('SAT Math')\n",
    "    plt.ylabel('Predicted GPA')\n",
    "    \n",
    "    plt.scatter(x, y)\n",
    "    X = numpy.linspace(min_x, max_x)\n",
    "    Y = model.predict(list(zip(X)))\n",
    "    plt.plot(X, Y)"
   ]
  },
  {
   "cell_type": "code",
   "execution_count": 76,
   "metadata": {},
   "outputs": [
    {
     "data": {
      "image/png": "[encoded data removed]",
      "text/plain": [
       "<Figure size 432x288 with 1 Axes>"
      ]
     },
     "metadata": {
      "needs_background": "light"
     },
     "output_type": "display_data"
    }
   ],
   "source": [
    "plot_GPA_line(linear_model_GPA, x3, y3)"
   ]
  },
  {
   "cell_type": "code",
   "execution_count": null,
   "metadata": {},
   "outputs": [],
   "source": []
  }
 ],
 "metadata": {
  "kernelspec": {
   "display_name": "Python 3",
   "language": "python",
   "name": "python3"
  },
  "language_info": {
   "codemirror_mode": {
    "name": "ipython",
    "version": 3
   },
   "file_extension": ".py",
   "mimetype": "text/x-python",
   "name": "python",
   "nbconvert_exporter": "python",
   "pygments_lexer": "ipython3",
   "version": "3.7.4"
  }
 },
 "nbformat": 4,
 "nbformat_minor": 2
}
