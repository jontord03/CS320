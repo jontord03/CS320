{
 "cells": [
  {
   "cell_type": "code",
   "execution_count": 2,
   "metadata": {},
   "outputs": [],
   "source": [
    "#For this clustering project, I will attempt to complete option 1, 2, and 4.\n",
    "\n",
    "#I plan to: \n",
    "\n",
    "#Complete the exercise (Option 2)\n",
    "#Complete Option 1\n",
    "#Complete option four by generating my own random data"
   ]
  },
  {
   "cell_type": "code",
   "execution_count": 3,
   "metadata": {},
   "outputs": [],
   "source": [
    "#I completed the exercise and the link to the github repo is below: \n",
    "\n",
    "#https://github.com/jontord/CS320/blob/master/Clustering/ClusteringIris.ipynb\n",
    "\n",
    "#I made my own edits to this project and tested the wine dataset, a different dataset provided by sklearn. Although\n",
    "#this may seem to be a version of the fourth option which is of advanced difficulty, I'll be creating a separate \n",
    "#project in the future which also does this as well. \n",
    "\n",
    "#I created several functions which attempt to \"optimize\" the DBSCAN algorithm and plot the figures"
   ]
  },
  {
   "cell_type": "code",
   "execution_count": 4,
   "metadata": {},
   "outputs": [],
   "source": [
    "#Option 1: Visualizing K-Means and DBSCAN\n",
    "\n",
    "#After working with the visualizations for several minutes, it became clear which ones were more advantageous to \n",
    "#use in certain scenarios. Hyperparameters significantly affect this selection process between the two algorithms, \n",
    "#and often times the decision is quite obvious. For example, if it is clear to the programmer that there are a large\n",
    "#collection of clusters distributed throughout a plane, then it would be naive to use the K-means clustering algorithm. \n",
    "#This is because K-means relies on the placement of centroids throughout a plane, and if there are countless datapoints\n",
    "#evenly dispersed, it would be advantageous to use the alternative method of DBSCAN. DBSCAN is useful because it allows\n",
    "#the programmer to set the hyperparameters for \"epsilon\" or the distance the algorithm extends beyond a point to form\n",
    "#a cluster with other nearby points. DBSCAN also allows the programmer to set the minimum amount of points that must\n",
    "#be contained within the epsilon distance. Although DBSCAN is useful for these cases, it requires the programmer to \n",
    "#set two hyperparameters, while K-means only involves one. If the user wants to run these algorithms unsupervised, \n",
    "#there will need to be a considerable amount of validation involved with the DBSCAN method as there are many more \n",
    "#permutations of possible hyperparameters that will impact the end result. However, when supervised, the DBSCAN method\n",
    "#is far more effective than K-means. For example, when given a picture of a \"smiley face,\" DBSCAN parses through each\n",
    "#and every datapoint on the plane, slowly creating separate clusters which slowly grow in size. If this is done after\n",
    "#settting reasonable hyperparameters (meaning setting hyperparameters which should generally not be impossible, such\n",
    "#avoiding the use of a minisclue epsilon and an excessive amount of minimum points per cluster), DBSCAN will almost \n",
    "#always correctly cluster in an efficient and reliable manner. However, if K-means is used, it is highly unlikely and \n",
    "#virtually impossible that it will cluster the datapoints correctly. Because K-means relies on taking the distance \n",
    "#between each datapoint after setting centroids, and the \"expression\" of the smiley face is contained within a circular\n",
    "#cluster, it is impossible to correctly group the datapoints in their separate clusters with any configuration of \n",
    "#centroids, regardless of whether or not this hyperparameter is randomly generated or decided by the programmer. \n",
    "\n",
    "#...K-means may also involve setting two hyperparameters: The amount of centroids and where the centroids are. "
   ]
  },
  {
   "cell_type": "code",
   "execution_count": 5,
   "metadata": {},
   "outputs": [],
   "source": [
    "#Now I will attempt to implement the K-means algorithm myself. I'll be using the video below as a reference as well as\n",
    "#the provided CS320 notes. \n",
    "\n",
    "#How K-Means clustering works: \n",
    "\n",
    "#Set the hyperparameter of the number of centroids/generated points/k\n",
    "#Choose where the centroids are or have them randomly generated. \n",
    "#Iterate through each point and assign them to the closest centroid (distance formula) \n",
    "#Each centroid and their assigned points represents a cluster, so calculate the mean of each cluster\n",
    "#That mean point represents the \"new centroid,\" and the process of assigning points repeats\n",
    "#The process of assigning points repeats until the position of the centoids remains constant"
   ]
  },
  {
   "cell_type": "code",
   "execution_count": 6,
   "metadata": {},
   "outputs": [],
   "source": [
    "import matplotlib.pyplot as plt\n",
    "import pandas as pd\n",
    "import numpy as np"
   ]
  },
  {
   "cell_type": "code",
   "execution_count": 7,
   "metadata": {},
   "outputs": [
    {
     "data": {
      "text/plain": [
       "Text(0.5, 1.0, 'Points')"
      ]
     },
     "execution_count": 7,
     "metadata": {},
     "output_type": "execute_result"
    },
    {
     "data": {
      "image/png": "[encoded data removed]",
      "text/plain": [
       "<Figure size 432x288 with 1 Axes>"
      ]
     },
     "metadata": {
      "needs_background": "light"
     },
     "output_type": "display_data"
    }
   ],
   "source": [
    "#Test plot\n",
    "plt.plot([0, 1, 2, 3, 4], [1, 4, 2, 3, 5], 'bo')\n",
    "plt.axis([0, 6, 0, 10])\n",
    "plt.title(\"Points\")"
   ]
  },
  {
   "cell_type": "code",
   "execution_count": 8,
   "metadata": {},
   "outputs": [],
   "source": [
    "import random as rd"
   ]
  },
  {
   "cell_type": "code",
   "execution_count": 19,
   "metadata": {},
   "outputs": [],
   "source": [
    "#Program blob generator\n",
    "\n",
    "def genXVals(n_points, Xmin, Xmax):\n",
    "    xVals = []\n",
    "    for x in range(n_points):\n",
    "        xVals.append(rd.randint(Xmin, Xmax))\n",
    "    return xVals\n",
    "\n",
    "def genYVals(n_points, Ymin, Ymax): \n",
    "    yVals = []\n",
    "    for y in range(n_points):\n",
    "        yVals.append(rd.randint(Ymin, Ymax))\n",
    "    return yVals\n",
    "        \n",
    "        "
   ]
  },
  {
   "cell_type": "code",
   "execution_count": 50,
   "metadata": {},
   "outputs": [
    {
     "name": "stdout",
     "output_type": "stream",
     "text": [
      "X value: [10, -2, 3, -5, 6, -4, -8, -1, 2, -10, 7, -3, 9, -8, 7, 3, 8, 2, 3, -4]\n",
      "Y value: [-3, 3, 6, -2, 7, -7, 6, -10, -6, 4, 2, 0, 7, 3, 5, -7, 7, 5, 1, 9]\n",
      "X value: [-14, -16, -16, -27, -25, -12, -13, -13, -20, -28, -15, -27, -16, -10, -21, -19, -17, -13, -28, -30, -11, -23, -19, -13]\n",
      "Y value: [34, 64, 64, 50, 32, 52, 53, 68, 43, 53, 68, 55, 39, 50, 42, 45, 61, 53, 52, 66, 46, 68, 69, 69]\n",
      "X value: [7, 9, 9, 0, 2, 3, 8, 1, 7, 3, 7, 0, 4, 4, 9, 2, 8, 10]\n",
      "Y value: [60, 56, 69, 55, 72, 85, 76, 69, 63, 72, 79, 76, 72, 62, 56, 66, 73, 72]\n"
     ]
    },
    {
     "data": {
      "image/png": "[encoded data removed]",
      "text/plain": [
       "<Figure size 432x288 with 1 Axes>"
      ]
     },
     "metadata": {
      "needs_background": "light"
     },
     "output_type": "display_data"
    }
   ],
   "source": [
    "def plot_cluster(n_point, Xmin, Xmax, Ymin, Ymax):  \n",
    "    x = genXVals(n_point, Xmin, Xmax)\n",
    "    y = genYVals(n_point, Ymin, Ymax)\n",
    "    plt.scatter(x, y)\n",
    "    print(\"X value: {}\".format(x))\n",
    "    print(\"Y value: {}\".format(y))\n",
    "\n",
    "plot_cluster(20, -10, 10, -10, 10)\n",
    "plot_cluster(24, -30, -10, 30, 70)\n",
    "plot_cluster(18, 0, 10, 55, 85)\n",
    "plt.title(\"Clusters\")\n",
    "plt.show()"
   ]
  },
  {
   "cell_type": "code",
   "execution_count": 54,
   "metadata": {},
   "outputs": [],
   "source": [
    "import numpy as np\n",
    "import pandas as pd\n",
    "from sklearn.cluster import KMeans "
   ]
  },
  {
   "cell_type": "code",
   "execution_count": 72,
   "metadata": {},
   "outputs": [
    {
     "data": {
      "text/html": [
       "<div>\n",
       "<style scoped>\n",
       "    .dataframe tbody tr th:only-of-type {\n",
       "        vertical-align: middle;\n",
       "    }\n",
       "\n",
       "    .dataframe tbody tr th {\n",
       "        vertical-align: top;\n",
       "    }\n",
       "\n",
       "    .dataframe thead th {\n",
       "        text-align: right;\n",
       "    }\n",
       "</style>\n",
       "<table border=\"1\" class=\"dataframe\">\n",
       "  <thead>\n",
       "    <tr style=\"text-align: right;\">\n",
       "      <th></th>\n",
       "      <th>X</th>\n",
       "      <th>Y</th>\n",
       "    </tr>\n",
       "  </thead>\n",
       "  <tbody>\n",
       "    <tr>\n",
       "      <td>0</td>\n",
       "      <td>10</td>\n",
       "      <td>-3</td>\n",
       "    </tr>\n",
       "    <tr>\n",
       "      <td>1</td>\n",
       "      <td>-2</td>\n",
       "      <td>3</td>\n",
       "    </tr>\n",
       "    <tr>\n",
       "      <td>2</td>\n",
       "      <td>3</td>\n",
       "      <td>6</td>\n",
       "    </tr>\n",
       "  </tbody>\n",
       "</table>\n",
       "</div>"
      ],
      "text/plain": [
       "    X  Y\n",
       "0  10 -3\n",
       "1  -2  3\n",
       "2   3  6"
      ]
     },
     "execution_count": 72,
     "metadata": {},
     "output_type": "execute_result"
    }
   ],
   "source": [
    "x1 = [10, -2, 3, -5, 6, -4, -8, -1, 2, -10, 7, -3, 9, -8, 7, 3, 8, 2, 3, -4]\n",
    "x2 = [-14, -16, -16, -27, -25, -12, -13, -13, -20, -28, -15, -27, -16, -10, -21, -19, -17, -13, -28, -30, -11, -23, -19, -13]\n",
    "x3 = [7, 9, 9, 0, 2, 3, 8, 1, 7, 3, 7, 0, 4, 4, 9, 2, 8, 10]\n",
    "xVal = x1 + x2 + x3\n",
    "\n",
    "y1 = [-3, 3, 6, -2, 7, -7, 6, -10, -6, 4, 2, 0, 7, 3, 5, -7, 7, 5, 1, 9]\n",
    "y2 = [34, 64, 64, 50, 32, 52, 53, 68, 43, 53, 68, 55, 39, 50, 42, 45, 61, 53, 52, 66, 46, 68, 69, 69]\n",
    "y3 = [60, 56, 69, 55, 72, 85, 76, 69, 63, 72, 79, 76, 72, 62, 56, 66, 73, 72]\n",
    "yVal = y1 + y2 + y3\n",
    "\n",
    "data = {\"X\": xVal, \"Y\": yVal}\n",
    "df = pd.DataFrame(data)\n",
    "df.head(n = 3)"
   ]
  },
  {
   "cell_type": "code",
   "execution_count": 78,
   "metadata": {},
   "outputs": [
    {
     "data": {
      "image/png": "[encoded data removed]",
      "text/plain": [
       "<Figure size 432x288 with 1 Axes>"
      ]
     },
     "metadata": {
      "needs_background": "light"
     },
     "output_type": "display_data"
    }
   ],
   "source": [
    "plt.scatter(xVal, yVal)\n",
    "plt.show()\n",
    "#Unclassified points on the plane"
   ]
  },
  {
   "cell_type": "code",
   "execution_count": null,
   "metadata": {},
   "outputs": [],
   "source": []
  }
 ],
 "metadata": {
  "kernelspec": {
   "display_name": "Python 3.7.1 64-bit",
   "language": "python",
   "name": "python3"
  },
  "language_info": {
   "codemirror_mode": {
    "name": "ipython",
    "version": 3
   },
   "file_extension": ".py",
   "mimetype": "text/x-python",
   "name": "python",
   "nbconvert_exporter": "python",
   "pygments_lexer": "ipython3",
   "version": "3.7.1"
  },
  "vscode": {
   "interpreter": {
    "hash": "aee8b7b246df8f9039afb4144a1f6fd8d2ca17a180786b69acc140d282b71a49"
   }
  }
 },
 "nbformat": 4,
 "nbformat_minor": 2
}
