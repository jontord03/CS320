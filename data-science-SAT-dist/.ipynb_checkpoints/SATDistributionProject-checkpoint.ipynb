{
 "cells": [
  {
   "cell_type": "code",
   "execution_count": 29,
   "metadata": {},
   "outputs": [],
   "source": [
    "# Ideas and notes: \n",
    "\n",
    "# Processing Project\n",
    "\n",
    "#Find several SAT datasets\n",
    "#Graph all Curves and find Standard Deviations\n",
    "#Processing Programs For: \n",
    "#- Percentile Calculations\n",
    "#- Z-score calculations\n",
    "#- Location on graph\n",
    "#- Sci Kit transformations\n",
    "#Self-programmed Linear Regression Algorithm for SAT dataset\n",
    "#Time permits: \n",
    "#Kivy GUI\n",
    "#Probabilities from Density Curves\n",
    "#- Density curve for given data\n",
    "#- Median, mean, skew"
   ]
  },
  {
   "cell_type": "code",
   "execution_count": 30,
   "metadata": {},
   "outputs": [],
   "source": [
    "#Project Management\n",
    "\n",
    "#First, I'll attempt to search for three SAT score datasets (two actually, because I already have one to begin with)\n",
    "#After determining whether or not they are from reliable sources, I'll compile them all into a single csv file. \n",
    "#I'll also keep them as separate datasets, so I can compare the distributions later on. \n",
    "\n",
    "#After collecting data, I'll create a distribution graph using scikit-learn and possibly other graphing programs. I'll\n",
    "#create a function which calculates the standard deviation, and I'll use this to find the standard deviation for \n",
    "#each individual dataset as well as for the larger, combined dataset. (Assume that for every other test I mention, I\n",
    "#am applying it to the individual datasets as well as the combined dataset) There will be two California public school\n",
    "#datasets and one randomly selected dataset from all over the United States (which won't exactly affect the distribution\n",
    "#of the combined dataset). \n",
    "#I'll then create a program which calculates percentiles, z-scores, and shows the user where on the distribution the \n",
    "#datapoint (SAT score 200-1600) falls. I will be labeling the graphs to indicate the position of the data point of \n",
    "#interest to show where it falls under the normal distribution (https://matplotlib.org/3.1.1/tutorials/text/text_intro.html)\n",
    "#I'll then explore some sci-kit transformations and attempt to implement them into the program. If time permits, I'll \n",
    "#create a Kivy application to view the previously listed programs in a single file.\n",
    "\n",
    "#Additional Exercises: \n",
    "\n",
    "#However, there is one more dataset I'll be experimenting with (if I have time). It contains data from 310 universities\n",
    "#showing the average SAT score amongst their students. \n",
    "#After this (if time), I will learn the techniques behind Linear Regression and add this to the original data processing file \n",
    "#(this file) to improve upon the experiment I conducted during the first assignment. \n",
    "#Lastly, if there is still ample time, I'll explore density curves and their various uses and possible implementations\n",
    "#into my program. "
   ]
  },
  {
   "cell_type": "code",
   "execution_count": 31,
   "metadata": {},
   "outputs": [],
   "source": [
    "from sklearn import preprocessing\n",
    "import pandas as pd\n",
    "import numpy as np\n",
    "import math"
   ]
  },
  {
   "cell_type": "code",
   "execution_count": 32,
   "metadata": {},
   "outputs": [
    {
     "data": {
      "text/html": [
       "<div>\n",
       "<style scoped>\n",
       "    .dataframe tbody tr th:only-of-type {\n",
       "        vertical-align: middle;\n",
       "    }\n",
       "\n",
       "    .dataframe tbody tr th {\n",
       "        vertical-align: top;\n",
       "    }\n",
       "\n",
       "    .dataframe thead th {\n",
       "        text-align: right;\n",
       "    }\n",
       "</style>\n",
       "<table border=\"1\" class=\"dataframe\">\n",
       "  <thead>\n",
       "    <tr style=\"text-align: right;\">\n",
       "      <th></th>\n",
       "      <th>Names</th>\n",
       "      <th>LastNames</th>\n",
       "    </tr>\n",
       "  </thead>\n",
       "  <tbody>\n",
       "    <tr>\n",
       "      <td>0</td>\n",
       "      <td>Jonathon</td>\n",
       "      <td>Tordilla</td>\n",
       "    </tr>\n",
       "    <tr>\n",
       "      <td>1</td>\n",
       "      <td>Nell</td>\n",
       "      <td>Brodkin</td>\n",
       "    </tr>\n",
       "    <tr>\n",
       "      <td>2</td>\n",
       "      <td>Sarah</td>\n",
       "      <td>Wilrich</td>\n",
       "    </tr>\n",
       "    <tr>\n",
       "      <td>3</td>\n",
       "      <td>Luis</td>\n",
       "      <td>Mendoza</td>\n",
       "    </tr>\n",
       "  </tbody>\n",
       "</table>\n",
       "</div>"
      ],
      "text/plain": [
       "      Names LastNames\n",
       "0  Jonathon  Tordilla\n",
       "1      Nell   Brodkin\n",
       "2     Sarah   Wilrich\n",
       "3      Luis   Mendoza"
      ]
     },
     "execution_count": 32,
     "metadata": {},
     "output_type": "execute_result"
    }
   ],
   "source": [
    "#This is just practice for creating dictionaries and representing them as dataframes\n",
    "\n",
    "lst = {\"Names\": [\"Jonathon\", \"Nell\", \"Sarah\", \"Luis\"], \"LastNames\": [\"Tordilla\", \"Brodkin\", \"Wilrich\", \"Mendoza\"]}\n",
    "friend_data = pd.DataFrame(lst)\n",
    "friend_data"
   ]
  },
  {
   "cell_type": "code",
   "execution_count": 33,
   "metadata": {},
   "outputs": [
    {
     "data": {
      "text/html": [
       "<div>\n",
       "<style scoped>\n",
       "    .dataframe tbody tr th:only-of-type {\n",
       "        vertical-align: middle;\n",
       "    }\n",
       "\n",
       "    .dataframe tbody tr th {\n",
       "        vertical-align: top;\n",
       "    }\n",
       "\n",
       "    .dataframe thead th {\n",
       "        text-align: right;\n",
       "    }\n",
       "</style>\n",
       "<table border=\"1\" class=\"dataframe\">\n",
       "  <thead>\n",
       "    <tr style=\"text-align: right;\">\n",
       "      <th></th>\n",
       "      <th>Names</th>\n",
       "    </tr>\n",
       "  </thead>\n",
       "  <tbody>\n",
       "    <tr>\n",
       "      <td>0</td>\n",
       "      <td>1</td>\n",
       "    </tr>\n",
       "    <tr>\n",
       "      <td>1</td>\n",
       "      <td>0</td>\n",
       "    </tr>\n",
       "    <tr>\n",
       "      <td>2</td>\n",
       "      <td>0</td>\n",
       "    </tr>\n",
       "    <tr>\n",
       "      <td>3</td>\n",
       "      <td>0</td>\n",
       "    </tr>\n",
       "  </tbody>\n",
       "</table>\n",
       "</div>"
      ],
      "text/plain": [
       "   Names\n",
       "0      1\n",
       "1      0\n",
       "2      0\n",
       "3      0"
      ]
     },
     "execution_count": 33,
     "metadata": {},
     "output_type": "execute_result"
    }
   ],
   "source": [
    "#Here I test the apply function\n",
    "\n",
    "def returnJ(name):\n",
    "    if name == \"Jonathon\":\n",
    "        return 1\n",
    "    elif name == \"Jonathan\":\n",
    "        return 1\n",
    "    elif name == \"Johnathan\":\n",
    "        return 1\n",
    "    else:\n",
    "        return 0\n",
    "    \n",
    "test_jonathon = friend_data[\"Names\"].apply(returnJ)\n",
    "pd.DataFrame(test_jonathon)"
   ]
  },
  {
   "cell_type": "code",
   "execution_count": 34,
   "metadata": {},
   "outputs": [],
   "source": [
    "# Datasets: \n",
    "\n",
    "#http://onlinestatbook.com/case_studies/sat.html (Range of selected SAT scores)\n",
    "#https://data.world/education/california-sat-report-2014-2015 (California 2014-2015)\n",
    "#https://data.world/education/california-sat-report-2013-2014 (California 2013-2014)\n",
    "\n",
    "#https://www.kaggle.com/theriley106/university-statistics (College SAT averages)\n",
    "\n",
    "# I will now attempt to organize each of the datasets into a dataframe, which won't be too difficult hopefully. \n",
    "# I do have a json file, but I'll find a way to convert that easily to csv. "
   ]
  },
  {
   "cell_type": "code",
   "execution_count": 35,
   "metadata": {},
   "outputs": [
    {
     "data": {
      "text/html": [
       "<div>\n",
       "<style scoped>\n",
       "    .dataframe tbody tr th:only-of-type {\n",
       "        vertical-align: middle;\n",
       "    }\n",
       "\n",
       "    .dataframe tbody tr th {\n",
       "        vertical-align: top;\n",
       "    }\n",
       "\n",
       "    .dataframe thead th {\n",
       "        text-align: right;\n",
       "    }\n",
       "</style>\n",
       "<table border=\"1\" class=\"dataframe\">\n",
       "  <thead>\n",
       "    <tr style=\"text-align: right;\">\n",
       "      <th></th>\n",
       "      <th>high_GPA</th>\n",
       "      <th>math_SAT</th>\n",
       "      <th>verb_SAT</th>\n",
       "      <th>comp_GPA</th>\n",
       "      <th>univ_GPA</th>\n",
       "    </tr>\n",
       "  </thead>\n",
       "  <tbody>\n",
       "    <tr>\n",
       "      <td>0</td>\n",
       "      <td>3.45</td>\n",
       "      <td>643</td>\n",
       "      <td>589</td>\n",
       "      <td>3.76</td>\n",
       "      <td>3.52</td>\n",
       "    </tr>\n",
       "    <tr>\n",
       "      <td>1</td>\n",
       "      <td>2.78</td>\n",
       "      <td>558</td>\n",
       "      <td>512</td>\n",
       "      <td>2.87</td>\n",
       "      <td>2.91</td>\n",
       "    </tr>\n",
       "    <tr>\n",
       "      <td>2</td>\n",
       "      <td>2.52</td>\n",
       "      <td>583</td>\n",
       "      <td>503</td>\n",
       "      <td>2.54</td>\n",
       "      <td>2.40</td>\n",
       "    </tr>\n",
       "  </tbody>\n",
       "</table>\n",
       "</div>"
      ],
      "text/plain": [
       "   high_GPA  math_SAT  verb_SAT  comp_GPA  univ_GPA\n",
       "0      3.45       643       589      3.76      3.52\n",
       "1      2.78       558       512      2.87      2.91\n",
       "2      2.52       583       503      2.54      2.40"
      ]
     },
     "execution_count": 35,
     "metadata": {},
     "output_type": "execute_result"
    }
   ],
   "source": [
    "SATUS = pd.read_csv(\"selectedSATNationwide.csv\", sep=\",\")\n",
    "SATUS.head(n = 3)\n",
    "#This dataset is already readable"
   ]
  },
  {
   "cell_type": "code",
   "execution_count": 36,
   "metadata": {},
   "outputs": [
    {
     "data": {
      "text/plain": [
       "0    1400.0\n",
       "1    1430.0\n",
       "2    1450.0\n",
       "3    1420.0\n",
       "4    1430.0\n",
       "5    1460.0\n",
       "6    1380.0\n",
       "7    1380.0\n",
       "8    1380.0\n",
       "9    1510.0\n",
       "Name: sat-avg, dtype: float64"
      ]
     },
     "execution_count": 36,
     "metadata": {},
     "output_type": "execute_result"
    }
   ],
   "source": [
    "CollegeSAT = pd.read_csv(\"CollegeSATAverage.csv\", sep=\",\")\n",
    "CollegeSAT['sat-avg'].head(n = 10)\n",
    "#This dataset is also very readable despite, being fed through a json-csv\n",
    "#converter (http://www.convertcsv.com/json-to-csv.htm)\n",
    "#As mentioned earlier, I may not work with this dataset"
   ]
  },
  {
   "cell_type": "code",
   "execution_count": 37,
   "metadata": {},
   "outputs": [
    {
     "data": {
      "text/plain": [
       "0    500\n",
       "1    536\n",
       "2    418\n",
       "3    546\n",
       "4    387\n",
       "5    NaN\n",
       "6    546\n",
       "7    590\n",
       "8      *\n",
       "9    573\n",
       "Name: AvgScrMath, dtype: object"
      ]
     },
     "execution_count": 37,
     "metadata": {},
     "output_type": "execute_result"
    }
   ],
   "source": [
    "CASAT1415 = pd.read_csv(\"FourFiveSAT.csv\", sep=\",\")\n",
    "#we have null values, so I'll the drop the rows which contain them\n",
    "#this is because any time there is a null value for the average math \n",
    "#score, it's because the school did not administer the test for some \n",
    "#reason\n",
    "CASAT1415[\"AvgScrMath\"].dropna()\n",
    "CASAT1415[\"AvgScrMath\"].head(n = 10)\n",
    "\n",
    "#Initially, I was confused on how exactly to drop the NaN values and such, but I eventually asked for\n",
    "#help during the following class period. "
   ]
  },
  {
   "cell_type": "code",
   "execution_count": 38,
   "metadata": {},
   "outputs": [
    {
     "data": {
      "text/plain": [
       "0    506\n",
       "1    543\n",
       "2    429\n",
       "3    523\n",
       "4    402\n",
       "5    NaN\n",
       "6      *\n",
       "7    545\n",
       "8    605\n",
       "9    NaN\n",
       "Name: AvgScrMath, dtype: object"
      ]
     },
     "execution_count": 38,
     "metadata": {},
     "output_type": "execute_result"
    }
   ],
   "source": [
    "CASAT1314 = pd.read_csv(\"ThreeFourSAT.csv\", sep=\",\")\n",
    "#we have null values again, so I repeat the previous process. \n",
    "CASAT1314[\"AvgScrMath\"].head(n = 10)"
   ]
  },
  {
   "cell_type": "code",
   "execution_count": 39,
   "metadata": {},
   "outputs": [],
   "source": [
    "#Updated Project Management Plan: \n",
    "\n",
    "#So now with these formatted datasets, I can now continue on to visualizing the data as a normal distribution. \n",
    "\n",
    "#I plan to do this by first reading an article which shows the viewer how to create a distribution using \n",
    "#the mean, standard deviation, and z-scores. All three of these values will be later be computed by functions \n",
    "#which will iterate through each of the three datasets. \n",
    "\n",
    "#Once values are obtained, they will be placed into their respective columns in a DataFrame. \n",
    "\n",
    "#Using pandas and matplotlib, it will then be somewhat straightforward to plot the normal distribution. \n",
    "\n",
    "#An additional function to calculate percentiles will then be implemented to the program, and annotations to the \n",
    "#graph will be added in order for the user to visualize his/her percentile on the graph itself with arrows and text\n",
    "\n",
    "#If there is still time, I'll create another normal distribution, but instead for the average SAT composite score\n",
    "#for 310 colleges in the United States. I might even create an iOS application to view percentiles by inputting \n",
    "#scores in my own time. "
   ]
  },
  {
   "cell_type": "code",
   "execution_count": 40,
   "metadata": {},
   "outputs": [],
   "source": [
    "#https://www.science-emergence.com/Articles/How-to-plot-a-normal-distribution-with-matplotlib-in-python-/\n",
    "\n",
    "#using the mean and standard deviation, the built in function scipi.stats.norm.pdf() creates the outputs for a perfect\n",
    "#normal distribution. However, how am I supposed to create a normal distribution as a varying bar chart? \n",
    "#I found another resource here: https://stackoverflow.com/questions/20011494/plot-normal-distribution-with-matplotlib\n",
    "#this is perfect, because it formats the data in a curved histogram. \n",
    "\n",
    "#This simplifies the process, because numpy calculates the mean and standard deviation, but I'll choose to use my own\n",
    "#functions which utilize the mathematical definitions of these traits. "
   ]
  },
  {
   "cell_type": "code",
   "execution_count": 41,
   "metadata": {},
   "outputs": [
    {
     "data": {
      "text/plain": [
       "1424.0"
      ]
     },
     "execution_count": 41,
     "metadata": {},
     "output_type": "execute_result"
    }
   ],
   "source": [
    "#These transformations allow me to use the mean and standard deviation to plot the normal distribution. \n",
    "\n",
    "#Mean and Standard Deviation test - experiment with CollegeSAT\n",
    "#I wrote these functions from scratch, with assistance from stack overflow for: \n",
    "    #sum and len (I forgot these existed somehow)\n",
    "    #square roots (I didn't import math)\n",
    "\n",
    "column = CollegeSAT[\"sat-avg\"].head(n = 10)\n",
    "scoreList = column.tolist()\n",
    "\n",
    "def formatAvg(lst):\n",
    "    print(\"Average: {}\".format(sum(lst)/len(lst)))\n",
    "    #to find the average, I simply take the sum of the list and divide it by the amount of items in the list\n",
    "    \n",
    "def avg(lst):\n",
    "    return (sum(lst)/len(lst))\n",
    "\n",
    "def formatStanDev(lst):\n",
    "    average = int(sum(lst)/len(lst))\n",
    "    print(\"Average: {}\".format(average))\n",
    "    squaredList = []\n",
    "    \n",
    "    for i in scoreList:\n",
    "        diff = abs(i - average)\n",
    "        diffSquared = diff * diff\n",
    "        squaredList.append(diffSquared)\n",
    "    \n",
    "    sSquared = sum(squaredList)/len(squaredList)\n",
    "    s = math.sqrt(sSquared)\n",
    "    print(\"Standard Deviation: {}\".format(s))\n",
    "    #this follows the usual standard deviation formula: take the average, find the difference of each datapoint\n",
    "    #from the average, square each difference and sum them together, divide by the amount of items, and take the\n",
    "    #square root. \n",
    "    \n",
    "def stanDev(lst):\n",
    "    average = int(sum(lst)/len(lst))\n",
    "    squaredList = []\n",
    "    \n",
    "    for i in lst:\n",
    "        diff = abs(i - average)\n",
    "        diffSquared = diff ** 2\n",
    "        squaredList.append(diffSquared)\n",
    "    \n",
    "    sSquared = sum(squaredList)/len(squaredList)\n",
    "    s = math.sqrt(sSquared)\n",
    "    return s\n",
    "\n",
    "avg(scoreList)"
   ]
  },
  {
   "cell_type": "code",
   "execution_count": 42,
   "metadata": {},
   "outputs": [
    {
     "data": {
      "text/plain": [
       "39.7994974842648"
      ]
     },
     "execution_count": 42,
     "metadata": {},
     "output_type": "execute_result"
    }
   ],
   "source": [
    "stanDev(scoreList)"
   ]
  },
  {
   "cell_type": "code",
   "execution_count": 43,
   "metadata": {},
   "outputs": [
    {
     "data": {
      "text/plain": [
       "1.0"
      ]
     },
     "execution_count": 43,
     "metadata": {},
     "output_type": "execute_result"
    }
   ],
   "source": [
    "#These functions calculate percentile given your score, or your score given your percentile\n",
    "#I'll create more functions later which create annotations on graphs using these \n",
    "\n",
    "def calScore(perc, lst): \n",
    "    lst.sort()\n",
    "    lstLength = len(lst)\n",
    "    ind = perc * lstLength\n",
    "    listIndex = round(ind)\n",
    "    return lst[listIndex - 1]\n",
    "    #This calculates the score the test taker received by using the percentile and the specific list. \n",
    "    #The function sorts the list, takes the length of the list, and then finds the index by multiplying the\n",
    "    #desired percentile by the list length. the function returns listIndex - 1 due to the way lists are \n",
    "    #formatted, with 0 as the first item, 1 as the second item, and so on. \n",
    "\n",
    "def negativeCalScore(perc, lst):\n",
    "    lst.sort()\n",
    "    lstLength = len(lst)\n",
    "    ind = perc * lstLength\n",
    "    listIndex = round(ind)\n",
    "    return -(lst[listIndex-1])\n",
    "    #This function is never used, and it was created because I thought it would enable me to point to a \n",
    "    #specific datapoint on a distribution... This will make sense soon, when I explain the distribution graphs. \n",
    "\n",
    "def calPerc(score, lst):\n",
    "    lst.sort()\n",
    "    lstLength = len(lst)\n",
    "    if score in lst: \n",
    "        ind = lst.index(score)\n",
    "        perc = ind/lstLength\n",
    "        return perc\n",
    "        \n",
    "    elif score not in lst: \n",
    "        lst.append(score)\n",
    "        lst.sort()\n",
    "        ind = lst.index(score)\n",
    "        perc = ind/lstLength\n",
    "        return perc\n",
    "    \n",
    "    #calculating the percentile based on a given score was the opposite process as calculating the score. \n",
    "    #I simply used the algebraic relationship between the percentile with the index to find this. If the \n",
    "    #score wasn't already in the list of scores, it would add it to the list and proceed with the same process. \n",
    "\n",
    "calScore(0.99, scoreList)\n",
    "calPerc(1600, scoreList)"
   ]
  },
  {
   "cell_type": "code",
   "execution_count": 44,
   "metadata": {},
   "outputs": [],
   "source": [
    "#Now I will use the link (https://stackoverflow.com/questions/20011494/plot-normal-distribution-with-matplotlib)\n",
    "#to create plots for the individual three datasets, and then I'll create the combined plot, but first I need to \n",
    "#place all of the individual math scores into lists which we can easily iterate through. \n",
    "\n",
    "#Then, it'll be straightforward to create the distribution and add the calculations for percentiles and calculations.\n",
    "\n",
    "#At this point, because the scores given are schoolwide averages throughout California, I'm not exactly sure if the \n",
    "#curve graphed will even be a normal distribution. However, whatever shape the graph makes, it'll be interesting to \n",
    "#view and manipulate"
   ]
  },
  {
   "cell_type": "code",
   "execution_count": 45,
   "metadata": {},
   "outputs": [
    {
     "data": {
      "image/png": "[encoded data removed]",
      "text/plain": [
       "<Figure size 432x288 with 1 Axes>"
      ]
     },
     "metadata": {
      "needs_background": "light"
     },
     "output_type": "display_data"
    }
   ],
   "source": [
    "import scipy.stats as stats\n",
    "import pylab as plt\n",
    "\n",
    "SATUSList = SATUS['math_SAT'].tolist()\n",
    "h = sorted(SATUSList)\n",
    "fit = stats.norm.pdf(h, avg(SATUSList), stanDev(SATUSList))\n",
    "plt.plot(h, fit, '-bo')\n",
    "plt.title(\"Selected US SAT Math Scores\")\n",
    "plt.hist(h, density = True)\n",
    "plt.show()\n",
    "\n",
    "#This bit of code takes the list, sorts it, fits it to a normal distribution using the average and standard deviation\n",
    "#values, and plots it in the form of a histogram as well. "
   ]
  },
  {
   "cell_type": "code",
   "execution_count": 46,
   "metadata": {},
   "outputs": [],
   "source": [
    "#Okay, so this shows somewhat of a normal distribution, but it's definitely not what I'm looking for. Most of the \n",
    "#scores actually tend to lie around the left corner of the graph, at about 560. Let's see how this compares to \n",
    "#the California datasets. "
   ]
  },
  {
   "cell_type": "code",
   "execution_count": 47,
   "metadata": {},
   "outputs": [],
   "source": [
    "ThreeFourSAT = CASAT1314['AvgScrMath'].tolist()\n",
    "FourFiveSAT = CASAT1415['AvgScrMath'].tolist()"
   ]
  },
  {
   "cell_type": "code",
   "execution_count": 48,
   "metadata": {},
   "outputs": [],
   "source": [
    "ThreeFourSAT = [val for val in ThreeFourSAT if val not in [\"*\", \"NA\"]] #list comprehension!\n",
    "FourFiveSAT = [val for val in FourFiveSAT if val not in [\"*\", \"NA\"]]\n",
    "\n",
    "#I had never seen list comprehension before this class, and I now know that it's very useful. It allowed me to \n",
    "#rid my lists of null and undesired values simply by creating a new list without those characters. "
   ]
  },
  {
   "cell_type": "code",
   "execution_count": 49,
   "metadata": {},
   "outputs": [],
   "source": [
    "ThreeFourSAT = [val for val in ThreeFourSAT if not pd.isnull(val)]\n",
    "FourFiveSAT = [val for val in FourFiveSAT if not pd.isnull(val)]\n",
    "\n",
    "#I repeated this process for null values, using the pd.isnull(val) function. "
   ]
  },
  {
   "cell_type": "code",
   "execution_count": 50,
   "metadata": {},
   "outputs": [],
   "source": [
    "for index, item in enumerate(ThreeFourSAT):\n",
    "    if type(item) == type(\"\"):\n",
    "        ThreeFourSAT[index] = int(ThreeFourSAT[index])\n",
    "        \n",
    "for index, item in enumerate(FourFiveSAT):\n",
    "    if type(item) == type(\"\"):\n",
    "        FourFiveSAT[index] = int(FourFiveSAT[index])\n",
    "    \n",
    "ThreeFourSAT = [val for val in ThreeFourSAT if not np.isnan(val)]\n",
    "FourFiveSAT = [val for val in FourFiveSAT if not np.isnan(val)]\n",
    "\n",
    "#finally, after making sure that every value was some kind of number and that every number was an integer, I was\n",
    "#able to graph the data."
   ]
  },
  {
   "cell_type": "code",
   "execution_count": 51,
   "metadata": {},
   "outputs": [
    {
     "data": {
      "image/png": "[encoded data removed]",
      "text/plain": [
       "<Figure size 432x288 with 1 Axes>"
      ]
     },
     "metadata": {
      "needs_background": "light"
     },
     "output_type": "display_data"
    }
   ],
   "source": [
    "h1 = sorted(ThreeFourSAT)\n",
    "fit1 = stats.norm.pdf(h1, avg(ThreeFourSAT), stanDev(ThreeFourSAT))\n",
    "plt.plot(h1, fit1, '-bo')\n",
    "plt.hist(h1, density=True)\n",
    "plt.title(\"California Math SAT Averages 2013-2014\")\n",
    "plt.show()\n",
    "\n",
    "#The result is a visually-pleasing normal distribution curve for the 2013 and 2014 California SAT data. "
   ]
  },
  {
   "cell_type": "code",
   "execution_count": 52,
   "metadata": {},
   "outputs": [
    {
     "data": {
      "image/png": "[encoded data removed]",
      "text/plain": [
       "<Figure size 432x288 with 1 Axes>"
      ]
     },
     "metadata": {
      "needs_background": "light"
     },
     "output_type": "display_data"
    }
   ],
   "source": [
    "h2 = sorted(FourFiveSAT)\n",
    "fit2 = stats.norm.pdf(h2, avg(FourFiveSAT), stanDev(FourFiveSAT))\n",
    "plt.plot(h2, fit2, '-bo')\n",
    "plt.hist(h2, density=True)\n",
    "plt.title(\"California Math SAT Averages 2014-2015\")\n",
    "plt.show()\n",
    "\n",
    "#The same goes for the 2014 and 2015 data, and this graph is less shifted to the left. "
   ]
  },
  {
   "cell_type": "code",
   "execution_count": 53,
   "metadata": {},
   "outputs": [
    {
     "data": {
      "image/png": "[encoded data removed]",
      "text/plain": [
       "<Figure size 432x288 with 1 Axes>"
      ]
     },
     "metadata": {
      "needs_background": "light"
     },
     "output_type": "display_data"
    }
   ],
   "source": [
    "#Now I'll create a combined dataset with both lists\n",
    "\n",
    "def graphSAT():\n",
    "    CalSAT = ThreeFourSAT + FourFiveSAT\n",
    "    h3 = sorted(CalSAT)\n",
    "    fit3 = stats.norm.pdf(h3, avg(CalSAT), stanDev(CalSAT))\n",
    "    plt.plot(h3, fit3, '-go')\n",
    "    plt.hist(h3, density=True)\n",
    "    plt.title(\"California Math SAT Averages 2013-2015\")\n",
    "    plt.show()\n",
    "    \n",
    "graphSAT()"
   ]
  },
  {
   "cell_type": "code",
   "execution_count": 56,
   "metadata": {},
   "outputs": [
    {
     "name": "stdout",
     "output_type": "stream",
     "text": [
      "Average: 487.9414705882353, Standard Deviation: 60.65747856515594\n"
     ]
    }
   ],
   "source": [
    "#h3 is the combined dataset\n",
    "#Functions: avg, formatAvg, stanDev, formatStanDev, calScore(perc, lst), calPerc(score, lst)\n",
    "\n",
    "CalSAT = ThreeFourSAT + FourFiveSAT\n",
    "h3 = sorted(CalSAT)\n",
    "average = str(avg(h3))\n",
    "standard = str(stanDev(h3))\n",
    "\n",
    "print(\"Average: {}, Standard Deviation: {}\".format(average, standard))"
   ]
  },
  {
   "cell_type": "code",
   "execution_count": 57,
   "metadata": {},
   "outputs": [
    {
     "data": {
      "text/plain": [
       "562"
      ]
     },
     "execution_count": 57,
     "metadata": {},
     "output_type": "execute_result"
    }
   ],
   "source": [
    "#calculate the datapoint for the 90th percentile on average\n",
    "calScore(0.90, CalSAT)"
   ]
  },
  {
   "cell_type": "code",
   "execution_count": 58,
   "metadata": {},
   "outputs": [
    {
     "data": {
      "text/plain": [
       "0.9591176470588235"
      ]
     },
     "execution_count": 58,
     "metadata": {},
     "output_type": "execute_result"
    }
   ],
   "source": [
    "#calculate the percentile for a 600 on the math section on average\n",
    "calPerc(600, CalSAT)"
   ]
  },
  {
   "cell_type": "code",
   "execution_count": 59,
   "metadata": {},
   "outputs": [],
   "source": [
    "#Now I'm going to try creating another function which annotates the graph showing the position of the score/percentile\n",
    "\n",
    "def showPerc(perc):\n",
    "    CalSAT = ThreeFourSAT + FourFiveSAT\n",
    "    h3 = sorted(CalSAT)\n",
    "    fit3 = stats.norm.pdf(h3, avg(CalSAT), stanDev(CalSAT))\n",
    "    plt.plot(h3, fit3, '-go')\n",
    "    plt.hist(h3, density=True)\n",
    "    plt.title(\"California Math SAT Averages 2013-2015\")\n",
    "    \n",
    "    #arrow from the right\n",
    "    score = calScore(perc, CalSAT)\n",
    "    minusScore = score - 1020\n",
    "    if perc > 0.5:\n",
    "        plt.arrow(1020, 0 , minusScore, 0.01 - perc/100 + 0.0005, width=0.0006, head_width=0.0012, head_length=30,\n",
    "                 length_includes_head = True, color=\"blue\")\n",
    "        \n",
    "    #This arrow was able to start from the right if the percentile was greater than 0.5. The parameter values \n",
    "    #were experimented with for quite a bit, and it took perfecting to actually get the arrow to point exactly at \n",
    "    #at the desired datapoint. \"0.01 - perc/100 + 0.0005\" represents the change in y from (1020, 0) on the graph. \n",
    "    #The logic behind this is that 0.01 is the max height, and instead of increasing in height, the curve actually\n",
    "    #decreases after the local max, as it's concave down. So it decreases in increments of the percentile as it moves\n",
    "    #to the right. A similar process is completed upon approaching the maximum point, but it involves increasing the\n",
    "    #change in y in increments of percentile instead. \n",
    "    \n",
    "    #arrow from the left\n",
    "    else: \n",
    "        plt.arrow(0, 0, calScore(perc, CalSAT), perc/100 + 0.0013, width=0.0006, head_width=0.0012, head_length=30,\n",
    "                 length_includes_head = True, color=\"red\")\n",
    "        \n",
    "    SATScore = calScore(perc, CalSAT)\n",
    "    print(\"SAT Math Score: {}\".format(SATScore))\n",
    "    \n",
    "    plt.show()"
   ]
  },
  {
   "cell_type": "code",
   "execution_count": 60,
   "metadata": {},
   "outputs": [
    {
     "name": "stdout",
     "output_type": "stream",
     "text": [
      "SAT Math Score: 453\n"
     ]
    },
    {
     "data": {
      "image/png": "[encoded data removed]",
      "text/plain": [
       "<Figure size 432x288 with 1 Axes>"
      ]
     },
     "metadata": {
      "needs_background": "light"
     },
     "output_type": "display_data"
    }
   ],
   "source": [
    "showPerc(0.3)"
   ]
  },
  {
   "cell_type": "code",
   "execution_count": 61,
   "metadata": {},
   "outputs": [
    {
     "name": "stdout",
     "output_type": "stream",
     "text": [
      "SAT Math Score: 518\n"
     ]
    },
    {
     "data": {
      "image/png": "[encoded data removed]",
      "text/plain": [
       "<Figure size 432x288 with 1 Axes>"
      ]
     },
     "metadata": {
      "needs_background": "light"
     },
     "output_type": "display_data"
    }
   ],
   "source": [
    "showPerc(0.7)"
   ]
  },
  {
   "cell_type": "code",
   "execution_count": 62,
   "metadata": {},
   "outputs": [
    {
     "name": "stdout",
     "output_type": "stream",
     "text": [
      "SAT Math Score: 412\n"
     ]
    },
    {
     "data": {
      "image/png": "[encoded data removed]",
      "text/plain": [
       "<Figure size 432x288 with 1 Axes>"
      ]
     },
     "metadata": {
      "needs_background": "light"
     },
     "output_type": "display_data"
    }
   ],
   "source": [
    "showPerc(0.1)"
   ]
  },
  {
   "cell_type": "code",
   "execution_count": 63,
   "metadata": {},
   "outputs": [
    {
     "name": "stdout",
     "output_type": "stream",
     "text": [
      "SAT Math Score: 647\n"
     ]
    },
    {
     "data": {
      "image/png": "[encoded data removed]",
      "text/plain": [
       "<Figure size 432x288 with 1 Axes>"
      ]
     },
     "metadata": {
      "needs_background": "light"
     },
     "output_type": "display_data"
    }
   ],
   "source": [
    "showPerc(0.99)"
   ]
  },
  {
   "cell_type": "code",
   "execution_count": 64,
   "metadata": {},
   "outputs": [],
   "source": [
    "#And that's my demonstration of the percentile visualization function. \n",
    "#In summary: \n",
    "#I collected data for SAT scores, using four datasets from data.world, kaggle, and another website. \n",
    "#I organized this data in csv files, lists, and dataframes\n",
    "#I created functions which could perform varrious statistical operations on the lists\n",
    "#I created functions which made these lists ready for manipulation \n",
    "#I created functions which graphed the data as a normal distribution with the help of scipy\n",
    "#I created functions which pointed out the datapoint which corresponded to the percentile given and displayed the SAT math score"
   ]
  },
  {
   "cell_type": "code",
   "execution_count": 65,
   "metadata": {},
   "outputs": [],
   "source": [
    "#Reflection: \n",
    "\n",
    "#From this project I learned many things about data processing in python and statistics/data representation. \n",
    "#I was never very comfortable with working with datasets and dataframes in python and pandas, but now I feel \n",
    "#comfortable creating my own lists, dictionaries, dataframes, csv files, graphs, and mathematical functions. \n",
    "#My exposure to statistics prior to this class has been very minimal, and I'd like to explore the topics of \n",
    "#distributions and density, random variables, confidence intervals, and chi square tests in this class, in the \n",
    "#near future. I also hope to work more with graphing in matplotlib as well. \n",
    "\n",
    "#Although I previously mentioned I would be working with Kivy, I recently discovered a new incredibly useful \n",
    "#application of machine learning and data visualization: trading. As a side project, I will begin research on this\n",
    "#topic, and I'll eventually upload my findings on this topic to the repository as well."
   ]
  }
 ],
 "metadata": {
  "kernelspec": {
   "display_name": "Python 3",
   "language": "python",
   "name": "python3"
  },
  "language_info": {
   "codemirror_mode": {
    "name": "ipython",
    "version": 3
   },
   "file_extension": ".py",
   "mimetype": "text/x-python",
   "name": "python",
   "nbconvert_exporter": "python",
   "pygments_lexer": "ipython3",
   "version": "3.7.4"
  }
 },
 "nbformat": 4,
 "nbformat_minor": 2
}
